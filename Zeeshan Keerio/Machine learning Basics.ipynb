{
 "cells": [
  {
   "cell_type": "markdown",
   "metadata": {},
   "source": [
    "## What Is Machine Learning?"
   ]
  },
  {
   "cell_type": "markdown",
   "metadata": {},
   "source": [
    "<p> Machine learning is a method of data analysis that automates analytical model building. It is a branch of artificial intelligence based on the idea that systems can learn from data, identify patterns and make decisions with minimal human intervention.</p>\n",
    "\n",
    "</br>\n",
    "<p>The process of learning begins with observations or data, such as examples, direct experience, or instruction, in order to look for patterns in data and make better decisions in the future based on the examples that we provide. The primary aim is to allow the computers learn automatically without human intervention or assistance and adjust actions accordingly.</p>"
   ]
  },
  {
   "cell_type": "markdown",
   "metadata": {},
   "source": [
    "<img src=\"ml.png\">"
   ]
  },
  {
   "cell_type": "markdown",
   "metadata": {},
   "source": [
    "### Some Machine Learning Methods\n",
    "\n",
    "<b>Machine learning algorithms are often categorized as supervised or unsupervised.</b>\n",
    "\n",
    "* <b>Supervised machine learning algorithms</b> can apply what has been learned in the past to new data using labeled examples to predict future events. Starting from the analysis of a known training dataset, the learning algorithm produces an inferred function to make predictions about the output values. The system is able to provide targets for any new input after sufficient training. The learning algorithm can also compare its output with the correct, intended output and find errors in order to modify the model accordingly.\n",
    "<br>\n",
    "* In contrast, <b> unsupervised machine learning algorithms</b> are used when the information used to train is neither classified nor labeled. Unsupervised learning studies how systems can infer a function to describe a hidden structure from unlabeled data. The system doesn’t figure out the right output, but it explores the data and can draw inferences from datasets to describe hidden structures from unlabeled data.\n",
    "<br>\n",
    "\n",
    "* <b>Semi-supervised machine learning algorithms</b> fall somewhere in between supervised and unsupervised learning, since they use both labeled and unlabeled data for training – typically a small amount of labeled data and a large amount of unlabeled data. The systems that use this method are able to considerably improve learning accuracy. Usually, semi-supervised learning is chosen when the acquired labeled data requires skilled and relevant resources in order to train it / learn from it. Otherwise, acquiring unlabeled data generally doesn’t require additional resources.\n",
    "Reinforcement machine learning algorithms is a learning method that interacts with its environment by producing actions and discovers errors or rewards. Trial and error search and delayed reward are the most relevant characteristics of reinforcement learning. This method allows machines and software agents to automatically determine the ideal behavior within a specific context in order to maximize its performance. Simple reward feedback is required for the agent to learn which action is best; this is known as the reinforcement signal."
   ]
  },
  {
   "cell_type": "markdown",
   "metadata": {},
   "source": [
    "### Classification and regression\n",
    "<b> These are concepts of supervised machine learning. A classification system predicts a category, while a regression predicts a number.</b>\n",
    "<br>\n",
    "An example of classification is the previously mentioned about spam. Emails are “categorized” as “spam” or “legitimate”. Another classic example of classification in the machine learning world is the prediction of churn, for example, in a telecom company. The objective in this case is to detect the behavioral patterns of customers that will be used to predict whether they are going to the competition. In this case, customers are classified as “churn” or “no churn”.\n",
    "<br>\n",
    "The regression, on the other hand, predicts a number, such as what the price of an item is going to have, or the number of reservations that will be made in a hotel in May.\n",
    "<br><br>\n",
    "* <b>Data mining</b><br>\n",
    "It is not uncommon to see how data mining and machine learning concepts are used indifferently. These are strongly related concepts. From our point of view, the main difference lies in the objective of each discipline. While data mining uncovers previously unknown patterns, machine learning is used to reproduce known patterns and make predictions based on patterns.\n",
    "<br>\n",
    "In short, it could be said that data mining has an exploratory function while machine learning focuses on prediction.\n",
    "<br><br>\n",
    "\n",
    "* <b>Learning, training</b><br>\n",
    "It is the process in which the patterns of a data set are detected, that is the heart of machine learning. Once patterns are identified, predictions can be made with new data entered into the system.\n",
    "<br>\n",
    "\n",
    "    For example, historical data from book purchases on an online website can be used to analyze customer behavior in their purchasing processes (titles visited, categories, purchase history…), group them into behavioral patterns, and make purchase recommendations to new customers who follow known or learned patterns.\n",
    "<br>\n",
    "\n",
    "* <b>Dataset</b><br>\n",
    "It is the raw material of the prediction system. This is the historical data used to train the system that detects patterns. The dataset is composed of instances, and instances of factors, characteristics or properties.\n",
    "<br>\n",
    "\n",
    "* <b>Instance, sample, record</b><br>\n",
    "An instance is each of the data available for analysis. If you want to predict the behavior of telephony service customers, each instance would correspond to a subscriber. Each instance, in turn, is composed of features that describes it, such as the age of the customer in the company, money spent daily on calls, etc. In a spreadsheet, the instances would be the rows; the characteristics, the columns.\n",
    "<br>\n",
    "\n",
    "* <b>Feature, attribute, property, field</b><br>\n",
    "These are the attributes that describe each of the instances in the dataset. Names are used interchangeably depending on the author and context. In the case of a customer portfolio, we would be talking about the number of purchases of each customer, age, whether she or he is a follower in social networks, if he or she has registered in the newsletter, what products bought… In a spreadsheet, would be the columns.\n",
    "<br>\n",
    "\n",
    "* <b>Objective</b><br>\n",
    "It is the attribute or factor that we want to predict, the objective of prediction, such as the probability of readmission of a patient after surgery.\n",
    "<br>\n",
    "\n",
    "* <b>Feature Engineering</b><br>\n",
    "This is the previous process to the creation of the prediction model in which an analysis, cleaning and structuring of the data fields is carried out. This process is one of the most important and costly of prediction process. The objective is to eliminate the fields that do not help to make the prediction and organize them properly so that the model does not receive information that is not useful, that could provoke predictions of poor quality or confidence.\n",
    "<br>\n",
    "In few words, it is the process that eliminates noise from signal.\n",
    "\n",
    "<br>\n",
    "\n",
    "* <b>Model</b><br>\n",
    "After training the system (that is, after detecting patterns in the data), a model is created to make predictions. We can assimilate a model to a filter in which new data are entered and whose output is the classification of that data according to the patterns that have been detected in training. For example, if a model with historical data is trained to detect the risk of credit card cancellation, the model will classify new customers based on their behavior to predict the cancellation.\n",
    "<br>\n",
    "\n",
    "* <b>Decision tree</b><br>\n",
    "It is the skeleton of the prediction model that is usually represented graphically as a tree, in which the branches are the recognized patterns in the learning process. Predictions for each pattern would be placed on the leaves of the branches.\n",
    "<br>\n",
    "* <b>Confidence</b><br>\n",
    "It is the probability of success that the system calculates for each prediction."
   ]
  },
  {
   "cell_type": "code",
   "execution_count": null,
   "metadata": {},
   "outputs": [],
   "source": []
  }
 ],
 "metadata": {
  "kernelspec": {
   "display_name": "Python 3",
   "language": "python",
   "name": "python3"
  },
  "language_info": {
   "codemirror_mode": {
    "name": "ipython",
    "version": 3
   },
   "file_extension": ".py",
   "mimetype": "text/x-python",
   "name": "python",
   "nbconvert_exporter": "python",
   "pygments_lexer": "ipython3",
   "version": "3.8.5"
  }
 },
 "nbformat": 4,
 "nbformat_minor": 4
}
